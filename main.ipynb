{
 "cells": [
  {
   "cell_type": "code",
   "execution_count": 10,
   "metadata": {},
   "outputs": [
    {
     "data": {
      "text/plain": [
       "2"
      ]
     },
     "execution_count": 10,
     "metadata": {},
     "output_type": "execute_result"
    }
   ],
   "source": [
    "1+1"
   ]
  },
  {
   "cell_type": "code",
   "execution_count": 2,
   "metadata": {},
   "outputs": [
    {
     "name": "stderr",
     "output_type": "stream",
     "text": [
      "C:\\Users\\14556\\AppData\\Local\\Temp\\ipykernel_7804\\3309269170.py:7: DeprecationWarning: executable_path has been deprecated, please pass in a Service object\n",
      "  driver = webdriver.Firefox(executable_path='.', options=options)\n"
     ]
    }
   ],
   "source": [
    "from selenium import webdriver\n",
    "from selenium.webdriver.firefox.options import Options\n",
    "import time\n",
    "\n",
    "options = Options()\n",
    "options.binary_location = r'C:\\Program Files\\Mozilla Firefox\\firefox.exe'\n",
    "driver = webdriver.Firefox(\".\", options=options)\n",
    "\n",
    "# https://www.dianping.com/shop/H3OkRsZU2OAiidto/review_all?queryType=reviewGrade&queryVal=bad\n",
    "# 打开网页\n",
    "driver.get(\"https://www.baidu.com\") # 打开url网页 比如 driver.get(\"http://www.baidu.com\")\n"
   ]
  },
  {
   "cell_type": "code",
   "execution_count": 37,
   "metadata": {},
   "outputs": [],
   "source": [
    "\n",
    "# for i in range(34):\n",
    "\n",
    "#     # 通过元素的类定位元素\n",
    "\n",
    "#     get_html = \"p\" + str(i+1) + \".html\"\n",
    "#     # 打开文件，准备写入\n",
    "#     f = open(get_html, 'wb')\n",
    "\n",
    "\n",
    "#     # 写入文件\n",
    "#     f.write(driver.find_element(\"css selector\",\".reviews-items\").get_attribute('outerHTML').encode(\"utf-8\", \"ignore\"))  # 忽略非法字符\n",
    "#     print('正在保存源码为%s' % get_html)\n",
    "#     # 关闭文件\n",
    "#     f.close()\n",
    "\n",
    "#     driver.find_element(\"css selector\",\".NextPage\").click()\n",
    "#     time.sleep(5)"
   ]
  },
  {
   "cell_type": "code",
   "execution_count": 38,
   "metadata": {},
   "outputs": [],
   "source": [
    "# driver.find_element(\"css selector\",\".review-words\").get_attribute('outerHTML')"
   ]
  },
  {
   "cell_type": "code",
   "execution_count": 52,
   "metadata": {},
   "outputs": [],
   "source": []
  },
  {
   "cell_type": "code",
   "execution_count": 62,
   "metadata": {},
   "outputs": [
    {
     "name": "stdout",
     "output_type": "stream",
     "text": [
      "<selenium.webdriver.remote.webelement.WebElement (session=\"a185f8e0-2b21-4679-8adc-90e71543b1f2\", element=\"d7a7bb38-5dee-46bb-81ca-5c9b0c32e2d5\")>\n",
      "<selenium.webdriver.remote.webelement.WebElement (session=\"a185f8e0-2b21-4679-8adc-90e71543b1f2\", element=\"ffc165a1-d2c0-46d8-a87d-ba65aa1cc954\")>\n",
      "<selenium.webdriver.remote.webelement.WebElement (session=\"a185f8e0-2b21-4679-8adc-90e71543b1f2\", element=\"b1e5cfa5-55b9-46f9-8539-48a4646fdcc8\")>\n",
      "<selenium.webdriver.remote.webelement.WebElement (session=\"a185f8e0-2b21-4679-8adc-90e71543b1f2\", element=\"86640310-3272-4d54-ac7a-b42627398543\")>\n",
      "<selenium.webdriver.remote.webelement.WebElement (session=\"a185f8e0-2b21-4679-8adc-90e71543b1f2\", element=\"8b602f94-f193-4777-8d5c-f7275492307f\")>\n",
      "<selenium.webdriver.remote.webelement.WebElement (session=\"a185f8e0-2b21-4679-8adc-90e71543b1f2\", element=\"3b73d7f7-a136-4472-822c-cb2b2d5b8da4\")>\n",
      "<selenium.webdriver.remote.webelement.WebElement (session=\"a185f8e0-2b21-4679-8adc-90e71543b1f2\", element=\"4185a64c-550f-4743-a78a-69c3ab443e3d\")>\n",
      "<selenium.webdriver.remote.webelement.WebElement (session=\"a185f8e0-2b21-4679-8adc-90e71543b1f2\", element=\"93e16074-8903-4337-bc48-03c964d3751a\")>\n",
      "<selenium.webdriver.remote.webelement.WebElement (session=\"a185f8e0-2b21-4679-8adc-90e71543b1f2\", element=\"11d34157-1554-4365-b843-3cd2f487d383\")>\n",
      "<selenium.webdriver.remote.webelement.WebElement (session=\"a185f8e0-2b21-4679-8adc-90e71543b1f2\", element=\"655faaf6-0b3f-4a96-ad70-7115aa49d9f5\")>\n",
      "<selenium.webdriver.remote.webelement.WebElement (session=\"a185f8e0-2b21-4679-8adc-90e71543b1f2\", element=\"d89faf03-6211-4980-ae4f-c89cbf6db009\")>\n",
      "<selenium.webdriver.remote.webelement.WebElement (session=\"a185f8e0-2b21-4679-8adc-90e71543b1f2\", element=\"84fd6084-8915-48f8-ada5-b471ba7f18f4\")>\n",
      "<selenium.webdriver.remote.webelement.WebElement (session=\"a185f8e0-2b21-4679-8adc-90e71543b1f2\", element=\"6b9266b2-8aee-472a-b305-45d9958594b1\")>\n",
      "<selenium.webdriver.remote.webelement.WebElement (session=\"a185f8e0-2b21-4679-8adc-90e71543b1f2\", element=\"778eba37-206e-43d1-816a-546992e5ed99\")>\n",
      "<selenium.webdriver.remote.webelement.WebElement (session=\"a185f8e0-2b21-4679-8adc-90e71543b1f2\", element=\"8bc43fee-da8c-4955-87ed-ec26568692de\")>\n",
      "<selenium.webdriver.remote.webelement.WebElement (session=\"a185f8e0-2b21-4679-8adc-90e71543b1f2\", element=\"ee85b7dd-c86d-401b-9e0e-209e2fe97235\")>\n",
      "<selenium.webdriver.remote.webelement.WebElement (session=\"a185f8e0-2b21-4679-8adc-90e71543b1f2\", element=\"cec01044-1923-47ee-b8bf-76c774b98fd9\")>\n",
      "<selenium.webdriver.remote.webelement.WebElement (session=\"a185f8e0-2b21-4679-8adc-90e71543b1f2\", element=\"e6185b3b-2dfc-4547-b38f-42fe740b3e96\")>\n",
      "<selenium.webdriver.remote.webelement.WebElement (session=\"a185f8e0-2b21-4679-8adc-90e71543b1f2\", element=\"82afcf24-4736-4ca8-bc93-feaccbbe0d1e\")>\n",
      "<selenium.webdriver.remote.webelement.WebElement (session=\"a185f8e0-2b21-4679-8adc-90e71543b1f2\", element=\"8a64fe70-9f99-42f3-bf37-c19f510a9876\")>\n",
      "<selenium.webdriver.remote.webelement.WebElement (session=\"a185f8e0-2b21-4679-8adc-90e71543b1f2\", element=\"68d44bd0-0331-4679-9d15-409b4b266482\")>\n",
      "<selenium.webdriver.remote.webelement.WebElement (session=\"a185f8e0-2b21-4679-8adc-90e71543b1f2\", element=\"585f1eea-3b93-4b3b-9fee-6060e9b0e78d\")>\n",
      "<selenium.webdriver.remote.webelement.WebElement (session=\"a185f8e0-2b21-4679-8adc-90e71543b1f2\", element=\"41a55cf5-136f-4503-b9b3-b3d220622e38\")>\n",
      "<selenium.webdriver.remote.webelement.WebElement (session=\"a185f8e0-2b21-4679-8adc-90e71543b1f2\", element=\"6eeaf3df-46a7-4d61-a248-0389c36e9d5c\")>\n",
      "<selenium.webdriver.remote.webelement.WebElement (session=\"a185f8e0-2b21-4679-8adc-90e71543b1f2\", element=\"49e58893-d174-4f50-92a8-ebceb09795ad\")>\n",
      "<selenium.webdriver.remote.webelement.WebElement (session=\"a185f8e0-2b21-4679-8adc-90e71543b1f2\", element=\"ddcb72fb-c5d5-4fbc-a754-33f795e7d0ed\")>\n",
      "<selenium.webdriver.remote.webelement.WebElement (session=\"a185f8e0-2b21-4679-8adc-90e71543b1f2\", element=\"28093b86-2563-4dde-8c30-a776b3249183\")>\n",
      "<selenium.webdriver.remote.webelement.WebElement (session=\"a185f8e0-2b21-4679-8adc-90e71543b1f2\", element=\"36869afa-99c2-4951-a467-debdbfdce8e1\")>\n",
      "<selenium.webdriver.remote.webelement.WebElement (session=\"a185f8e0-2b21-4679-8adc-90e71543b1f2\", element=\"4ff0f7b1-9f30-4a7e-a30b-b5502941d5ac\")>\n",
      "<selenium.webdriver.remote.webelement.WebElement (session=\"a185f8e0-2b21-4679-8adc-90e71543b1f2\", element=\"325ae0af-5193-41fa-8edd-b0e7c33045a9\")>\n",
      "<selenium.webdriver.remote.webelement.WebElement (session=\"a185f8e0-2b21-4679-8adc-90e71543b1f2\", element=\"196e6f16-6af2-4205-9456-6ef13c817981\")>\n",
      "<selenium.webdriver.remote.webelement.WebElement (session=\"a185f8e0-2b21-4679-8adc-90e71543b1f2\", element=\"22c08ab3-df73-4913-bcc3-45713b438f3a\")>\n",
      "<selenium.webdriver.remote.webelement.WebElement (session=\"a185f8e0-2b21-4679-8adc-90e71543b1f2\", element=\"5cd4630b-2057-4b1b-b2d8-126cb9cf06a3\")>\n"
     ]
    },
    {
     "ename": "NoSuchElementException",
     "evalue": "Message: Unable to locate element: .NextPage\nStacktrace:\nRemoteError@chrome://remote/content/shared/RemoteError.sys.mjs:8:8\nWebDriverError@chrome://remote/content/shared/webdriver/Errors.sys.mjs:183:5\nNoSuchElementError@chrome://remote/content/shared/webdriver/Errors.sys.mjs:395:5\nelement.find/</<@chrome://remote/content/marionette/element.sys.mjs:134:16\n",
     "output_type": "error",
     "traceback": [
      "\u001b[1;31m---------------------------------------------------------------------------\u001b[0m",
      "\u001b[1;31mNoSuchElementException\u001b[0m                    Traceback (most recent call last)",
      "Cell \u001b[1;32mIn[62], line 22\u001b[0m\n\u001b[0;32m     19\u001b[0m     \u001b[39m# variable_name.write(i.get_attribute('outerHTML'))\u001b[39;00m\n\u001b[0;32m     20\u001b[0m     variable_name\u001b[39m.\u001b[39mwrite(\u001b[39m\"\u001b[39m\u001b[39m\\n\u001b[39;00m\u001b[39m\\n\u001b[39;00m\u001b[39m\"\u001b[39m)\n\u001b[1;32m---> 22\u001b[0m driver\u001b[39m.\u001b[39;49mfind_element(\u001b[39m\"\u001b[39;49m\u001b[39mcss selector\u001b[39;49m\u001b[39m\"\u001b[39;49m,\u001b[39m\"\u001b[39;49m\u001b[39m.NextPage\u001b[39;49m\u001b[39m\"\u001b[39;49m)\u001b[39m.\u001b[39mclick()\n\u001b[0;32m     23\u001b[0m \u001b[39mprint\u001b[39m(i)\n\u001b[0;32m     24\u001b[0m time\u001b[39m.\u001b[39msleep(\u001b[39m7\u001b[39m)\n",
      "File \u001b[1;32mc:\\Users\\14556\\anaconda3\\lib\\site-packages\\selenium\\webdriver\\remote\\webdriver.py:831\u001b[0m, in \u001b[0;36mWebDriver.find_element\u001b[1;34m(self, by, value)\u001b[0m\n\u001b[0;32m    828\u001b[0m     by \u001b[39m=\u001b[39m By\u001b[39m.\u001b[39mCSS_SELECTOR\n\u001b[0;32m    829\u001b[0m     value \u001b[39m=\u001b[39m \u001b[39mf\u001b[39m\u001b[39m'\u001b[39m\u001b[39m[name=\u001b[39m\u001b[39m\"\u001b[39m\u001b[39m{\u001b[39;00mvalue\u001b[39m}\u001b[39;00m\u001b[39m\"\u001b[39m\u001b[39m]\u001b[39m\u001b[39m'\u001b[39m\n\u001b[1;32m--> 831\u001b[0m \u001b[39mreturn\u001b[39;00m \u001b[39mself\u001b[39;49m\u001b[39m.\u001b[39;49mexecute(Command\u001b[39m.\u001b[39;49mFIND_ELEMENT, {\u001b[39m\"\u001b[39;49m\u001b[39musing\u001b[39;49m\u001b[39m\"\u001b[39;49m: by, \u001b[39m\"\u001b[39;49m\u001b[39mvalue\u001b[39;49m\u001b[39m\"\u001b[39;49m: value})[\u001b[39m\"\u001b[39m\u001b[39mvalue\u001b[39m\u001b[39m\"\u001b[39m]\n",
      "File \u001b[1;32mc:\\Users\\14556\\anaconda3\\lib\\site-packages\\selenium\\webdriver\\remote\\webdriver.py:440\u001b[0m, in \u001b[0;36mWebDriver.execute\u001b[1;34m(self, driver_command, params)\u001b[0m\n\u001b[0;32m    438\u001b[0m response \u001b[39m=\u001b[39m \u001b[39mself\u001b[39m\u001b[39m.\u001b[39mcommand_executor\u001b[39m.\u001b[39mexecute(driver_command, params)\n\u001b[0;32m    439\u001b[0m \u001b[39mif\u001b[39;00m response:\n\u001b[1;32m--> 440\u001b[0m     \u001b[39mself\u001b[39;49m\u001b[39m.\u001b[39;49merror_handler\u001b[39m.\u001b[39;49mcheck_response(response)\n\u001b[0;32m    441\u001b[0m     response[\u001b[39m\"\u001b[39m\u001b[39mvalue\u001b[39m\u001b[39m\"\u001b[39m] \u001b[39m=\u001b[39m \u001b[39mself\u001b[39m\u001b[39m.\u001b[39m_unwrap_value(response\u001b[39m.\u001b[39mget(\u001b[39m\"\u001b[39m\u001b[39mvalue\u001b[39m\u001b[39m\"\u001b[39m, \u001b[39mNone\u001b[39;00m))\n\u001b[0;32m    442\u001b[0m     \u001b[39mreturn\u001b[39;00m response\n",
      "File \u001b[1;32mc:\\Users\\14556\\anaconda3\\lib\\site-packages\\selenium\\webdriver\\remote\\errorhandler.py:245\u001b[0m, in \u001b[0;36mErrorHandler.check_response\u001b[1;34m(self, response)\u001b[0m\n\u001b[0;32m    243\u001b[0m         alert_text \u001b[39m=\u001b[39m value[\u001b[39m\"\u001b[39m\u001b[39malert\u001b[39m\u001b[39m\"\u001b[39m]\u001b[39m.\u001b[39mget(\u001b[39m\"\u001b[39m\u001b[39mtext\u001b[39m\u001b[39m\"\u001b[39m)\n\u001b[0;32m    244\u001b[0m     \u001b[39mraise\u001b[39;00m exception_class(message, screen, stacktrace, alert_text)  \u001b[39m# type: ignore[call-arg]  # mypy is not smart enough here\u001b[39;00m\n\u001b[1;32m--> 245\u001b[0m \u001b[39mraise\u001b[39;00m exception_class(message, screen, stacktrace)\n",
      "\u001b[1;31mNoSuchElementException\u001b[0m: Message: Unable to locate element: .NextPage\nStacktrace:\nRemoteError@chrome://remote/content/shared/RemoteError.sys.mjs:8:8\nWebDriverError@chrome://remote/content/shared/webdriver/Errors.sys.mjs:183:5\nNoSuchElementError@chrome://remote/content/shared/webdriver/Errors.sys.mjs:395:5\nelement.find/</<@chrome://remote/content/marionette/element.sys.mjs:134:16\n"
     ]
    }
   ],
   "source": [
    "# 找出所有的评论的列表\n",
    "with open(\"comment.txt\",\"w\") as variable_name:\n",
    "    \n",
    "    for i in range(34):\n",
    "        try:\n",
    "            for i in driver.find_elements(\"css selector\",\".more-words\"):\n",
    "                i.click()\n",
    "        except Exception:\n",
    "            pass\n",
    "\n",
    "        for i in driver.find_elements(\"css selector\",\".main-review\"):\n",
    "\n",
    "            k = i.find_element(\"css selector\",\".time\")\n",
    "            variable_name.write(k.text)\n",
    "            variable_name.write(\"\\n\")\n",
    "\n",
    "            j = i.find_element(\"css selector\",\".review-words\")\n",
    "            variable_name.write(j.text)\n",
    "            # variable_name.write(i.get_attribute('outerHTML'))\n",
    "            variable_name.write(\"\\n\\n\")\n",
    "\n",
    "        driver.find_element(\"css selector\",\".NextPage\").click()\n",
    "        print(i)\n",
    "        time.sleep(7)\n"
   ]
  },
  {
   "cell_type": "code",
   "execution_count": null,
   "metadata": {},
   "outputs": [],
   "source": []
  }
 ],
 "metadata": {
  "kernelspec": {
   "display_name": "base",
   "language": "python",
   "name": "python3"
  },
  "language_info": {
   "codemirror_mode": {
    "name": "ipython",
    "version": 3
   },
   "file_extension": ".py",
   "mimetype": "text/x-python",
   "name": "python",
   "nbconvert_exporter": "python",
   "pygments_lexer": "ipython3",
   "version": "3.10.9"
  },
  "orig_nbformat": 4
 },
 "nbformat": 4,
 "nbformat_minor": 2
}
